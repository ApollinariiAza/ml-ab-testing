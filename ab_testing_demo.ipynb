{
 "cells": [
  {
   "cell_type": "markdown",
   "metadata": {},
   "source": [
    "# A/B Testing Framework - Демонстрация\n",
    "\n",
    "Этот notebook демонстрирует возможности фреймворка для A/B тестирования.\n",
    "\n",
    "## Содержание:\n",
    "1. [Импорт библиотек](#imports)\n",
    "2. [Тест конверсии](#conversion-test)\n",
    "3. [Тест непрерывной метрики](#continuous-test)\n",
    "4. [Расчёт размера выборки](#sample-size)\n",
    "5. [Анализ мощности теста](#power-analysis)"
   ]
  },
  {
   "cell_type": "markdown",
   "metadata": {},
   "source": [
    "## 1. Импорт библиотек {#imports}"
   ]
  },
  {
   "cell_type": "code",
   "execution_count": null,
   "metadata": {},
   "outputs": [],
   "source": [
    "import sys\n",
    "import warnings\n",
    "warnings.filterwarnings('ignore')\n",
    "\n",
    "# Импортируем наш модуль\n",
    "from ab_testing import ABTesting, TestType\n",
    "import pandas as pd\n",
    "import numpy as np\n",
    "import matplotlib.pyplot as plt\n",
    "\n",
    "# Настройка отображения\n",
    "pd.set_option('display.max_columns', None)\n",
    "plt.rcParams['figure.figsize'] = (12, 8)\n",
    "\n",
    "print(\"Все библиотеки успешно импортированы!\")"
   ]
  },
  {
   "cell_type": "markdown",
   "metadata": {},
   "source": [
    "## 2. Тест конверсии {#conversion-test}\n",
    "\n",
    "Сравниваем конверсию двух версий лендинга:"
   ]
  },
  {
   "cell_type": "code",
   "execution_count": null,
   "metadata": {},
   "outputs": [],
   "source": [
    "# Инициализация A/B теста\n",
    "ab_test = ABTesting(alpha=0.05)\n",
    "\n",
    "# Генерируем данные для теста конверсии\n",
    "conversion_data = ab_test.generate_sample_data(\n",
    "    n_control=1500,    # Старая версия сайта\n",
    "    n_treatment=1500,  # Новая версия сайта\n",
    "    test_type=TestType.CONVERSION,\n",
    "    effect_size=0.025  # Ожидаемое увеличение конверсии на 2.5%\n",
    ")\n",
    "\n",
    "print(f\"Данные сгенерированы:\")\n",
    "print(f\"• Общий размер выборки: {len(conversion_data)}\")\n",
    "print(conversion_data.head())"
   ]
  },
  {
   "cell_type": "code",
   "execution_count": null,
   "metadata": {},
   "outputs": [],
   "source": [
    "# Базовый анализ данных\n",
    "summary = conversion_data.groupby('group')['converted'].agg(['count', 'sum', 'mean'])\n",
    "summary.columns = ['Пользователей', 'Конверсий', 'Конверсия %']\n",
    "summary['Конверсия %'] = summary['Конверсия %'].round(4)\n",
    "\n",
    "print(\"Предварительная статистика:\")\n",
    "print(summary)\n",
    "\n",
    "# Рассчитаем относительное изменение\n",
    "conv_a = summary.loc['A', 'Конверсия %']\n",
    "conv_b = summary.loc['B', 'Конверсия %']\n",
    "relative_change = ((conv_b / conv_a - 1) * 100)\n",
    "\n",
    "print(f\"\\nОтносительное изменение: {relative_change:+.2f}%\")"
   ]
  },
  {
   "cell_type": "code",
   "execution_count": null,
   "metadata": {},
   "outputs": [],
   "source": [
    "# Проводим статистический тест\n",
    "conversion_result = ab_test.conversion_test(conversion_data, 'converted')\n",
    "\n",
    "# Выводим подробный отчёт\n",
    "print(ab_test.generate_report(conversion_result))"
   ]
  },
  {
   "cell_type": "code",
   "execution_count": null,
   "metadata": {},
   "outputs": [],
   "source": [
    "# Визуализируем результаты\n",
    "ab_test.plot_results(conversion_data, conversion_result)\n",
    "plt.show()"
   ]
  },
  {
   "cell_type": "markdown",
   "metadata": {},
   "source": [
    "## 3. Тест непрерывной метрики {#continuous-test}\n",
    "\n",
    "Сравниваем среднюю выручку на пользователя:"
   ]
  },
  {
   "cell_type": "code",
   "execution_count": null,
   "metadata": {},
   "outputs": [],
   "source": [
    "# Генерируем данные для теста выручки\n",
    "revenue_data = ab_test.generate_sample_data(\n",
    "    n_control=1000,\n",
    "    n_treatment=1000,\n",
    "    test_type=TestType.CONTINUOUS,\n",
    "    effect_size=0.12  # Увеличение выручки на 12%\n",
    ")\n",
    "\n",
    "print(\"Данные по выручке:\")\n",
    "revenue_summary = revenue_data.groupby('group')['revenue'].agg(['count', 'mean', 'std'])\n",
    "revenue_summary.columns = ['Пользователей', 'Средняя выручка', 'Стд. отклонение']\n",
    "revenue_summary = revenue_summary.round(2)\n",
    "\n",
    "print(revenue_summary)\n",
    "\n",
    "# Относительное изменение\n",
    "rev_change = ((revenue_summary.loc['B', 'Средняя выручка'] / revenue_summary.loc['A', 'Средняя выручка'] - 1) * 100)\n",
    "print(f\"\\nИзменение выручки: {rev_change:+.2f}%\")"
   ]
  },
  {
   "cell_type": "code",
   "execution_count": null,
   "metadata": {},
   "outputs": [],
   "source": [
    "# Проводим t-тест\n",
    "revenue_result = ab_test.continuous_test(revenue_data, 'revenue')\n",
    "\n",
    "print(ab_test.generate_report(revenue_result))"
   ]
  },
  {
   "cell_type": "code",
   "execution_count": null,
   "metadata": {},
   "outputs": [],
   "source": [
    "# Визуализация результатов\n",
    "ab_test.plot_results(revenue_data, revenue_result, metric_col='revenue')\n",
    "plt.show()"
   ]
  },
  {
   "cell_type": "markdown",
   "metadata": {},
   "source": [
    "## 4. Расчёт размера выборки {#sample-size}\n",
    "\n",
    "Определяем необходимый размер выборки перед началом эксперимента:"
   ]
  },
  {
   "cell_type": "code",
   "execution_count": null,
   "metadata": {},
   "outputs": [],
   "source": [
    "# Различные сценарии для планирования экспериментов\n",
    "scenarios = [\n",
    "    {\"name\": \"Высокая конверсия, малый эффект\", \"baseline\": 0.15, \"lift\": 0.05},\n",
    "    {\"name\": \"Средняя конверсия, средний эффект\", \"baseline\": 0.08, \"lift\": 0.15},\n",
    "    {\"name\": \"Низкая конверсия, большой эффект\", \"baseline\": 0.02, \"lift\": 0.30},\n",
    "]\n",
    "\n",
    "print(\"📏 ПЛАНИРОВАНИЕ РАЗМЕРА ВЫБОРКИ\")\n",
    "print(\"=\" * 50)\n",
    "\n",
    "sample_sizes = []\n",
    "\n",
    "for scenario in scenarios:\n",
    "    sample_size = ab_test.sample_size_calculator(\n",
    "        baseline_rate=scenario[\"baseline\"],\n",
    "        expected_lift=scenario[\"lift\"],\n",
    "        power=0.8,\n",
    "        alpha=0.05\n",
    "    )\n",
    "    \n",
    "    sample_sizes.append({\n",
    "        'Сценарий': scenario['name'],\n",
    "        'Базовая конверсия': f\"{scenario['baseline']:.1%}\",\n",
    "        'Ожидаемый прирост': f\"{scenario['lift']:.1%}\",\n",
    "        'Размер группы': f\"{sample_size:,}\",\n",
    "        'Общий размер': f\"{sample_size * 2:,}\"\n",
    "    })\n",
    "\n",
    "sample_df = pd.DataFrame(sample_sizes)\n",
    "print(sample_df.to_string(index=False))"
   ]
  },
  {
   "cell_type": "code",
   "execution_count": null,
   "metadata": {},
   "outputs": [],
   "source": [
    "# Визуализация зависимости размера выборки от параметров\n",
    "baselines = np.arange(0.01, 0.21, 0.01)\n",
    "lifts = [0.05, 0.10, 0.15, 0.20, 0.25]\n",
    "\n",
    "fig, ax = plt.subplots(figsize=(12, 8))\n",
    "\n",
    "for lift in lifts:\n",
    "    sizes = []\n",
    "    for baseline in baselines:\n",
    "        try:\n",
    "            size = ab_test.sample_size_calculator(baseline, lift, power=0.8)\n",
    "            sizes.append(size)\n",
    "        except:\n",
    "            sizes.append(np.nan)\n",
    "    \n",
    "    ax.plot(baselines, sizes, label=f'Прирост {lift:.0%}', linewidth=2)\n",
    "\n",
    "ax.set_xlabel('Базовая конверсия')\n",
    "ax.set_ylabel('Размер выборки (каждая группа)')\n",
    "ax.set_title('Зависимость размера выборки от базовой конверсии и эффекта')\n",
    "ax.legend()\n",
    "ax.grid(True, alpha=0.3)\n",
    "ax.set_ylim(0, 50000)\n",
    "\n",
    "plt.tight_layout()\n",
    "plt.show()"
   ]
  },
  {
   "cell_type": "markdown",
   "metadata": {},
   "source": [
    "## 5. Анализ мощности теста {#power-analysis}\n",
    "\n",
    "Исследуем как размер выборки влияет на способность обнаруживать эффекты:"
   ]
  },
  {
   "cell_type": "code",
   "execution_count": null,
   "metadata": {},
   "outputs": [],
   "source": [
    "# Симуляция экспериментов с различными размерами выборки\n",
    "sample_sizes = [100, 300, 500, 1000, 2000, 3000]\n",
    "effect_size = 0.03  # Фиксированный эффект 3%\n",
    "\n",
    "results = []\n",
    "\n",
    "for n in sample_sizes:\n",
    "    # Генерируем данные с фиксированным эффектом\n",
    "    data = ab_test.generate_sample_data(\n",
    "        n_control=n,\n",
    "        n_treatment=n,\n",
    "        test_type=TestType.CONVERSION,\n",
    "        effect_size=effect_size\n",
    "    )\n",
    "    \n",
    "    result = ab_test.conversion_test(data)\n",
    "    \n",
    "    results.append({\n",
    "        'Размер выборки': n,\n",
    "        'Общий размер': n * 2,\n",
    "        'p-value': result.p_value,\n",
    "        'Мощность': result.power,\n",
    "        'Значимо': result.is_significant,\n",
    "        'Конверсия A': result.group_a_metric,\n",
    "        'Конверсия B': result.group_b_metric\n",
    "    })\n",
    "\n",
    "power_df = pd.DataFrame(results)\n",
    "print(\"АНАЛИЗ МОЩНОСТИ ДЛЯ РАЗЛИЧНЫХ РАЗМЕРОВ ВЫБОРКИ\")\n",
    "print(\"=\" * 60)\n",
    "print(power_df.round(4))"
   ]
  },
  {
   "cell_type": "code",
   "execution_count": null,
   "metadata": {},
   "outputs": [],
   "source": [
    "# Визуализация мощности\n",
    "fig, (ax1, ax2) = plt.subplots(1, 2, figsize=(15, 6))\n",
    "\n",
    "# График мощности\n",
    "ax1.plot(power_df['Размер выборки'], power_df['Мощность'], 'bo-', linewidth=2, markersize=8)\n",
    "ax1.axhline(y=0.8, color='red', linestyle='--', label='Рекомендуемая мощность (0.8)')\n",
    "ax1.set_xlabel('Размер выборки (каждая группа)')\n",
    "ax1.set_ylabel('Мощность теста')\n",
    "ax1.set_title('Зависимость мощности от размера выборки')\n",
    "ax1.grid(True, alpha=0.3)\n",
    "ax1.legend()\n",
    "ax1.set_ylim(0, 1)\n",
    "\n",
    "# График p-values\n",
    "colors = ['red' if p < 0.05 else 'gray' for p in power_df['p-value']]\n",
    "ax2.scatter(power_df['Размер выборки'], power_df['p-value'], c=colors, s=100, alpha=0.7)\n",
    "ax2.axhline(y=0.05, color='red', linestyle='--', label='α = 0.05')\n",
    "ax2.set_xlabel('Размер выборки (каждая группа)')\n",
    "ax2.set_ylabel('p-value')\n",
    "ax2.set_title('p-values для различных размеров выборки')\n",
    "ax2.grid(True, alpha=0.3)\n",
    "ax2.legend()\n",
    "ax2.set_yscale('log')\n",
    "\n",
    "plt.tight_layout()\n",
    "plt.show()"
   ]
  },
  {
   "cell_type": "markdown",
   "metadata": {},
   "source": [
    "## Заключение\n",
    "\n",
    "В этом notebook мы продемонстрировали:\n",
    "\n",
    "1. **Тесты конверсии** - для биномиальных метрик (конверсия, CTR)\n",
    "2. **Тесты непрерывных метрик** - для средних значений (выручка, время на сайте)\n",
    "3. **Планирование экспериментов** - расчёт необходимого размера выборки\n",
    "4. **Анализ мощности** - понимание вероятности обнаружения реальных эффектов\n",
    "\n",
    "### Рекомендации:\n",
    "\n",
    "- **Всегда планируйте размер выборки** заранее на основе ожидаемого эффекта\n",
    "- **Стремитесь к мощности 0.8+** для надёжного обнаружения эффектов\n",
    "- **Используйте доверительные интервалы** для оценки практической значимости\n",
    "- **Анализируйте сегменты** для более глубокого понимания результатов"
   ]
  }
 ],
 "metadata": {
  "kernelspec": {
   "display_name": "Python 3",
   "language": "python",
   "name": "python3"
  },
  "language_info": {
   "codemirror_mode": {
    "name": "ipython",
    "version": 3
   },
   "file_extension": ".py",
   "mimetype": "text/x-python",
   "name": "python",
   "nbconvert_exporter": "python",
   "pygments_lexer": "ipython3",
   "version": "3.9.0"
  }
 },
 "nbformat": 4,
 "nbformat_minor": 4
}